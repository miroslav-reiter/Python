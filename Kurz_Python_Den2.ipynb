{
 "cells": [
  {
   "cell_type": "markdown",
   "id": "a6f9a02c",
   "metadata": {},
   "source": [
    "# 01. Riadiace štruktúry (control flow)"
   ]
  },
  {
   "cell_type": "code",
   "execution_count": 51,
   "id": "50ed7526",
   "metadata": {},
   "outputs": [],
   "source": [
    "# if (elif, else), for, while, break, continue"
   ]
  },
  {
   "cell_type": "markdown",
   "id": "b0ad2ce7",
   "metadata": {},
   "source": [
    "## A. Štruktúra IF, input"
   ]
  },
  {
   "cell_type": "code",
   "execution_count": 28,
   "id": "dfc02c6f",
   "metadata": {},
   "outputs": [
    {
     "name": "stdout",
     "output_type": "stream",
     "text": [
      "Zadaj svoje krstne meno: laco\n",
      "Dobry den, Laco\n",
      "Zadaj pocet kusov: 36\n",
      "\n",
      "Vybrali ste, 36 kusov!\n",
      "Gratulujem k meninam, ziskavate 25 % zľavu\n"
     ]
    }
   ],
   "source": [
    "zakaznik_meno = input(\"Zadaj svoje krstne meno: \")\n",
    "print(\"Dobry den,\", zakaznik_meno.title().strip())\n",
    "zakaznik_meno = zakaznik_meno.title().strip()\n",
    "\n",
    "produkt_pocet_kusov = int(input(\"Zadaj pocet kusov: \"))\n",
    "print(\"\\nVybrali ste,\", produkt_pocet_kusov, \"kusov!\")\n",
    "\n",
    "# Ctrl + /\n",
    "# print(\"\\nzakaznik_meno -- >\",type(zakaznik_meno))\n",
    "# print(\"produkt_pocet_kusov -- >\",type(produkt_pocet_kusov))\n",
    "\n",
    "# Operator = Priradenie, assigment\n",
    "a = 5\n",
    "y = 300\n",
    "vek_klient = 23\n",
    "\n",
    "# Operator == Porovnanie, != je rozne, nerovnake\n",
    "# 5 == 3 False\n",
    "# 5 == 5 True\n",
    "# 5 != 5 False\n",
    "\n",
    "# > < >= <=\n",
    "if zakaznik_meno == \"Bohdana\": \n",
    "    print(\"Gratulujem k meninam, ziskavate 25 % zľavu\")\n",
    "# else if\n",
    "elif zakaznik_meno == \"Laco\": \n",
    "    print(\"Gratulujem k meninam, ziskavate 25 % zľavu\")\n",
    "else:\n",
    "    print(\"Skus to nabuduce alebo prid ked budes mat meniny...\")"
   ]
  },
  {
   "cell_type": "markdown",
   "id": "142aa9c8",
   "metadata": {},
   "source": [
    "## B. Štruktúra for (cyklus), zoznamy"
   ]
  },
  {
   "cell_type": "code",
   "execution_count": 41,
   "id": "2415ca8d",
   "metadata": {},
   "outputs": [
    {
     "name": "stdout",
     "output_type": "stream",
     "text": [
      "<class 'range'>\n",
      "\n",
      "range(5):\n",
      "0\n",
      "1\n",
      "2\n",
      "3\n",
      "4\n",
      "\n",
      "range(1,6):\n",
      "1\n",
      "2\n",
      "3\n",
      "4\n",
      "5\n",
      "\n",
      "range(1,6,2):\n",
      "1\n",
      "3\n",
      "5\n",
      "False\n",
      "Nie je...\n",
      "<class 'list'>\n",
      "['Televizor', 'PS5', 'Nintendo Switch']\n"
     ]
    }
   ],
   "source": [
    "print(type(range(5)))\n",
    "\n",
    "# Default 0-5 nie vratane 5\n",
    "\n",
    "print(\"\\nrange(5):\")\n",
    "for i in range(5):\n",
    "    print(i)\n",
    "\n",
    "print(\"\\nrange(1,6):\")\n",
    "for i in range(1,6):\n",
    "    print(i)\n",
    "    \n",
    "\n",
    "print(\"\\nrange(1,6,2):\")\n",
    "for i in range(1,6,2):\n",
    "    print(i)\n",
    "    \n",
    "# Operator in -> True, False\n",
    "print(\"x\" in \"Karol\")\n",
    "\n",
    "if \"x\" in \"Karol\":\n",
    "    print(\"Je tam velke K...\")\n",
    "else:\n",
    "    print(\"Nie je...\")"
   ]
  },
  {
   "cell_type": "code",
   "execution_count": 56,
   "id": "571fc998",
   "metadata": {},
   "outputs": [
    {
     "name": "stdout",
     "output_type": "stream",
     "text": [
      "<class 'list'>\n",
      "['Televizor', 'PS5', 'Nintendo Switch']\n",
      "False\n",
      "True\n",
      "1\n",
      "2\n",
      "3\n",
      "\n",
      "Zoznam vsetkych produktov: \n",
      "* Televizor\n",
      "* PS5\n",
      "* Nintendo Switch\n",
      "[0, -10, -20, -30, -40, -50, -60, -70, -80, -90]\n"
     ]
    }
   ],
   "source": [
    "# Zoznam/list\n",
    "# Indexovatelne, menitelne, mozu mat duplicity, heterogenne, usporiadane poradie\n",
    "zoznam_produktov = [\"Televizor\", \"PS5\", \"Nintendo Switch\"]\n",
    "print(type(zoznam_produktov))\n",
    "print(zoznam_produktov)\n",
    "\n",
    "print(\"Sluchadla\" in zoznam_produktov)\n",
    "print(\"PS5\" in zoznam_produktov)\n",
    "\n",
    "for a in [1,2,3]:\n",
    "    print(a)\n",
    "\n",
    "print(\"\\nZoznam vsetkych produktov: \")\n",
    "for a in zoznam_produktov:\n",
    "    print(\"*\", a)\n",
    "    \n",
    "ciselnik = list(range(0,-100,-10))\n",
    "print(ciselnik)"
   ]
  },
  {
   "cell_type": "markdown",
   "id": "d854d526",
   "metadata": {},
   "source": [
    "## C. Štruktúra while (cyklus), zoznamy"
   ]
  },
  {
   "cell_type": "code",
   "execution_count": 71,
   "id": "92097444",
   "metadata": {},
   "outputs": [
    {
     "name": "stdout",
     "output_type": "stream",
     "text": [
      "Zadaj cele cislo: 3\n",
      "Pokracujeme dalej\n",
      "5 . Chcem zit do zajtra\n",
      "Pokracujeme dalej\n",
      "Zadaj rok: 2022\n",
      "2026\n",
      "2030\n",
      "2034\n",
      "2038\n",
      "2042\n",
      "2046\n",
      "2050\n",
      "2054\n",
      "Koncime\n"
     ]
    }
   ],
   "source": [
    "# Nekonecny cyklus\n",
    "# while(True):\n",
    "#     print(\"Chcem zit nonstop\")\n",
    "    \n",
    "i = int(input(\"Zadaj cele cislo: \"))\n",
    "\n",
    "while(i <= 5):\n",
    "    i = i + 1 \n",
    "    \n",
    "    if i % 2 == 0:\n",
    "        print(\"Pokracujeme dalej\")\n",
    "        continue\n",
    "    else:    \n",
    "        print(i, \". Chcem zit do zajtra\")\n",
    "        \n",
    "# Rok 2022 - 2100, pres.\n",
    "i = int(input(\"Zadaj rok: \"))\n",
    "\n",
    "while(i <= 2100): \n",
    "    if i >= 2052:\n",
    "        print(\"Koncime\")\n",
    "        break\n",
    "        \n",
    "    i = i + 4   \n",
    "    print(i)\n",
    "\n",
    "    "
   ]
  },
  {
   "cell_type": "markdown",
   "id": "d84f3645",
   "metadata": {},
   "source": [
    "# 02. Zoznamy vyber dat (slicing)"
   ]
  },
  {
   "cell_type": "code",
   "execution_count": 93,
   "id": "29e8ea1b",
   "metadata": {},
   "outputs": [
    {
     "name": "stdout",
     "output_type": "stream",
     "text": [
      "[30, 70, 10, 90, -10, 0, 100, -20, 500]\n",
      "1. polozka/0. index --> 30\n",
      "3. polozka/2. index --> 10\n",
      "Pocet poloziek --> 9\n",
      "Sucet poloziek --> 770\n",
      "\n",
      "Posledna polozka --> 500\n",
      "Predposledna polozka--> -20\n",
      "\n",
      "Posledna polozka --> 500\n",
      "Predposledna polozka--> -20\n",
      "\n",
      "Slice 0:4 --> [30, 70, 10, 90]\n",
      "Slice 1:5 --> [70, 10, 90, -10]\n",
      "Slice :7 --> [30, 70, 10, 90, -10, 0, 100]\n",
      "Slice 3: --> [90, -10, 0, 100, -20, 500]\n",
      "Slice : --> [30, 70, 10, 90, -10, 0, 100, -20, 500]\n",
      "Slice :: --> [30, 70, 10, 90, -10, 0, 100, -20, 500]\n",
      "Slice ::2 --> [30, 10, -10, 100, 500]\n",
      "Slice ::3 --> [30, 90, 100]\n",
      "Slice ::-1 --> [500, -20, 100, 0, -10, 90, 10, 70, 30]\n",
      "Slice ::-2 --> [500, 100, -10, 10, 30]\n",
      "Slice 5:2:-2 --> [0, 90]\n",
      "Slice 2:5:-2 --> []\n"
     ]
    }
   ],
   "source": [
    "zoznam_cisel = [30, 70, 10, 90, -10, 0, 100, -20, 500]\n",
    "print(zoznam_cisel)\n",
    "\n",
    "# Indexovanie\n",
    "print(\"1. polozka/0. index -->\",zoznam_cisel[0])\n",
    "print(\"3. polozka/2. index -->\",zoznam_cisel[2])\n",
    "print(\"Pocet poloziek -->\", len(zoznam_cisel))\n",
    "print(\"Sucet poloziek -->\", sum(zoznam_cisel))\n",
    "\n",
    "print(\"\\nPosledna polozka -->\",zoznam_cisel[-1])\n",
    "print(\"Predposledna polozka-->\",zoznam_cisel[-2])\n",
    "\n",
    "print(\"\\nPosledna polozka -->\",zoznam_cisel[len(zoznam_cisel)-1])\n",
    "print(\"Predposledna polozka-->\",zoznam_cisel[len(zoznam_cisel)-2])\n",
    "\n",
    "print(\"\\nSlice 0:4 -->\",zoznam_cisel[0:4])\n",
    "print(\"Slice 1:5 -->\",zoznam_cisel[1:5])\n",
    "print(\"Slice :7 -->\",zoznam_cisel[:7])\n",
    "print(\"Slice 3: -->\",zoznam_cisel[3:])\n",
    "print(\"Slice : -->\",zoznam_cisel[:])\n",
    "print(\"Slice :: -->\",zoznam_cisel[::])\n",
    "\n",
    "print(\"Slice ::2 -->\",zoznam_cisel[::2])\n",
    "print(\"Slice ::3 -->\",zoznam_cisel[::3])\n",
    "\n",
    "print(\"Slice ::-1 -->\",zoznam_cisel[::-1])\n",
    "print(\"Slice ::-2 -->\",zoznam_cisel[::-2])\n",
    "\n",
    "print(\"Slice 5:2:-2 -->\",zoznam_cisel[5:2:-2])\n",
    "print(\"Slice 2:5:-2 -->\",zoznam_cisel[2:5:-2])"
   ]
  },
  {
   "cell_type": "markdown",
   "id": "264b1112",
   "metadata": {},
   "source": [
    "# 03. Zabudovane funkcie/metody pre zoznamy(list)"
   ]
  },
  {
   "cell_type": "code",
   "execution_count": 126,
   "id": "be18bdee",
   "metadata": {},
   "outputs": [
    {
     "name": "stdout",
     "output_type": "stream",
     "text": [
      "zoznam_zakaznikov --> ['Karol', 'Ivana', 'Monika', 'monika', 'MONIKA', 'Dusan', 'Xenia']\n",
      "zoznam_zakaznikov po appende --> ['Karol', 'Ivana', 'Monika', 'monika', 'MONIKA', 'Dusan', 'Xenia', 'Cyril']\n",
      "zoznam_zakaznikov po copy --> ['Karol', 'Ivana', 'Monika', 'monika', 'MONIKA', 'Dusan', 'Xenia', 'Cyril']\n",
      "\n",
      "zoznam_zakaznikov --> ['Karol', 'Ivana', 'Monika', 'monika', 'MONIKA', 'Dusan', 'Xenia', 'Cyril'] id --> 2823417745216\n",
      "zoznam_zakaznikov_zaloha copy --> ['Karol', 'Ivana', 'Monika', 'monika', 'MONIKA', 'Dusan', 'Xenia', 'Cyril'] id --> 2823415451136\n",
      "zoznam_zakaznikov_zaloha2 --> ['Karol', 'Ivana', 'Monika', 'monika', 'MONIKA', 'Dusan', 'Xenia', 'Cyril'] id --> 2823417745216\n",
      "\n",
      "Kolko je karolov, count --> 1\n",
      "\n",
      "zoznam_zakaznikov, extend --> ['Karol', 'Ivana', 'Monika', 'monika', 'MONIKA', 'Dusan', 'Xenia', 'Cyril', 'Metoda', 'Konstantin']\n",
      "Na ktorom indexe je Cyril, index --> 7\n",
      "Na ktorom indexe je Karol, index --> 0\n",
      "zoznam_zakaznikov po insert --> ['Adam', 'Karol', 'Ivana', 'Monika', 'monika', 'MONIKA', 'Dusan', 'Xenia', 'Cyril', 'Metoda', 'Konstantin']\n",
      "zoznam_zakaznikov po insert --> ['Adam', 'Karol', 'Ivana', 'Monika', 'monika', 'MONIKA', 'Dusan', 'Xenia', 'Cyril', 'Metoda', 'Palo', 'Konstantin']\n",
      "odstranena_polozka --> Adam\n",
      "zoznam_zakaznikov po pop --> ['Karol', 'Ivana', 'Monika', 'monika', 'MONIKA', 'Dusan', 'Xenia', 'Cyril', 'Metoda', 'Palo', 'Konstantin']\n",
      "zoznam_zakaznikov remove --> ['Karol', 'Ivana', 'Monika', 'monika', 'MONIKA', 'Dusan', 'Cyril', 'Metoda', 'Palo', 'Konstantin']\n",
      "zoznam_zakaznikov reverse --> ['Konstantin', 'Palo', 'Metoda', 'Cyril', 'Dusan', 'MONIKA', 'monika', 'Monika', 'Ivana', 'Karol']\n",
      "zoznam_zakaznikov sort --> ['Cyril', 'Dusan', 'Ivana', 'Karol', 'Konstantin', 'MONIKA', 'Metoda', 'Monika', 'Palo', 'monika']\n"
     ]
    }
   ],
   "source": [
    "zoznam_zakaznikov = [\"Karol\",\"Ivana\",\"Monika\", \"monika\", \"MONIKA\",\"Dusan\",\"Xenia\"]\n",
    "zoznam_vysky_zakaznikov = [189, 190, 160, 175, 203]\n",
    "print(\"zoznam_zakaznikov -->\", zoznam_zakaznikov)\n",
    "zoznam_zakaznikov.append('Cyril')\n",
    "print(\"zoznam_zakaznikov po appende -->\", zoznam_zakaznikov)\n",
    "# zoznam_zakaznikov.clear()\n",
    "# zoznam_zakaznikov = []\n",
    "# print(\"zoznam_zakaznikov po clear -->\", zoznam_zakaznikov)\n",
    "\n",
    "zoznam_zakaznikov_zaloha = zoznam_zakaznikov.copy()\n",
    "zoznam_zakaznikov_zaloha_2 = zoznam_zakaznikov\n",
    "print(\"zoznam_zakaznikov po copy -->\", zoznam_zakaznikov)\n",
    "\n",
    "print(\"\\nzoznam_zakaznikov -->\", zoznam_zakaznikov, \"id -->\", id(zoznam_zakaznikov))\n",
    "print(\"zoznam_zakaznikov_zaloha copy -->\", zoznam_zakaznikov_zaloha, \"id -->\", id(zoznam_zakaznikov_zaloha))\n",
    "print(\"zoznam_zakaznikov_zaloha2 -->\", zoznam_zakaznikov_zaloha_2, \"id -->\", id(zoznam_zakaznikov_zaloha_2))\n",
    "\n",
    "zoznam_zakaznikov.extend([\"Metoda\", \"Konstantin\"])\n",
    "print(\"\\nKolko je karolov, count -->\",zoznam_zakaznikov.count(\"Karol\"))\n",
    "print(\"\\nzoznam_zakaznikov, extend -->\", zoznam_zakaznikov)\n",
    "\n",
    "print(\"Na ktorom indexe je Cyril, index -->\",zoznam_zakaznikov.index(\"Cyril\"))\n",
    "print(\"Na ktorom indexe je Karol, index -->\",zoznam_zakaznikov.index(\"Karol\"))\n",
    "\n",
    "zoznam_zakaznikov.insert(0,\"Adam\")\n",
    "print(\"zoznam_zakaznikov po insert -->\", zoznam_zakaznikov)\n",
    "zoznam_zakaznikov.insert(-1,\"Palo\")\n",
    "print(\"zoznam_zakaznikov po insert -->\", zoznam_zakaznikov)\n",
    "\n",
    "odstranena_polozka = zoznam_zakaznikov.pop(0)\n",
    "print(\"odstranena_polozka -->\", odstranena_polozka)\n",
    "print(\"zoznam_zakaznikov po pop -->\", zoznam_zakaznikov)\n",
    "\n",
    "zoznam_zakaznikov.remove(\"Xenia\")\n",
    "print(\"zoznam_zakaznikov remove -->\", zoznam_zakaznikov)\n",
    "\n",
    "zoznam_zakaznikov.reverse()\n",
    "print(\"zoznam_zakaznikov reverse -->\", zoznam_zakaznikov)\n",
    "\n",
    "zoznam_zakaznikov.sort()\n",
    "print(\"zoznam_zakaznikov sort -->\", zoznam_zakaznikov)\n",
    "\n",
    "# a = 1\n",
    "# b = 1\n",
    "# c = 1\n",
    "# d = e = f = 2\n",
    "# print(\"a --> \", id(a))\n",
    "# print(\"b --> \", id(b))\n",
    "# print(\"c --> \", id(c))\n",
    "\n",
    "# print(\"d --> \", id(d))\n",
    "# print(\"e --> \", id(e))\n",
    "# print(\"f --> \", id(f))\n",
    "\n",
    "# # Operator is True, False\n",
    "# print(a is b)\n",
    "# print(a is d)"
   ]
  },
  {
   "cell_type": "markdown",
   "id": "a8047fc8",
   "metadata": {},
   "source": [
    "# 04. Práca s textovými súbormi"
   ]
  },
  {
   "cell_type": "code",
   "execution_count": 144,
   "id": "b95d9d14",
   "metadata": {},
   "outputs": [
    {
     "name": "stdout",
     "output_type": "stream",
     "text": [
      "Vitaj na kurze \n",
      "ako sa stat Datovy analytik v Pythone\n",
      "\n",
      "['Vitaj na kurze ako BI, SQL\\n', 'Vitaj na kurze ako sa stat Datovy analytik v Pythone\\n', 'Vitaj na kurze ako BI, SQL\\n', 'Python je fajnovy\\n', 'Vsetko najlepsie\\n', 'Python je fajnovy\\n', 'Vsetko najlepsie\\n', 'Python je fajnovy\\n', 'Vsetko najlepsie\\n', 'Python je fajnovy\\n', 'Vsetko najlepsie\\n', '\\n', '\\n', 'Faktura 20220001\\n', 'Polozky:\\n', '\\n', 'Notebook \\t 3000 Eur\\n', 'Tlaciaren \\t 150 EurPython je fajnovy\\n', 'Vsetko najlepsie\\n', '\\n', '\\n', 'Faktura 20220001\\n', 'Polozky:\\n', '\\n', 'Notebook \\t 3000 Eur\\n', 'Tlaciaren \\t 150 EurPython je fajnovy\\n', 'Vsetko najlepsie\\n', '\\n', '\\n', 'Faktura 20220001\\n', 'Polozky:\\n', '\\n', 'Notebook \\t 3000 Eur\\n', 'Tlaciaren \\t 150 EurPython je fajnovy\\n', 'Vsetko najlepsie\\n', '\\n', '\\n', 'Faktura 20220001\\n', 'Polozky:\\n', '\\n', 'Notebook \\t 3000 Eur\\n', 'Tlaciaren \\t 150 EurPython je fajnovy\\n', 'Vsetko najlepsie\\n', '\\n', '\\n', 'Faktura 20220001\\n', 'Polozky:\\n', '\\n', 'Notebook \\t 3000 Eur\\n', 'Tlaciaren \\t 150 EurPython je fajnovy\\n', 'Vsetko najlepsie\\n', '\\n', '\\n', 'Faktura 20220001\\n', 'Polozky:\\n', '\\n', 'Notebook \\t 3000 Eur\\n', 'Tlaciaren \\t 150 EurPython je fajnovy\\n', 'Vsetko najlepsie\\n', '\\n', '\\n', 'Faktura 20220001\\n', 'Polozky:\\n', '\\n', 'Notebook \\t 3000 Eur\\n', 'Tlaciaren \\t 150 EurPython je fajnovy\\n', 'Vsetko najlepsie\\n', '\\n', '\\n', 'Faktura 20220001\\n', 'Polozky:\\n', '\\n', 'Notebook \\t 3000 Eur\\n', 'Tlaciaren \\t 150 Eur']\n"
     ]
    }
   ],
   "source": [
    "# r - read\n",
    "# w - write\n",
    "# a - append\n",
    "# b - binary\n",
    "\n",
    "# Vseobecne pre pracu\n",
    "try:\n",
    "    subor = open(\"data.txt\", mode = \"a\", encoding = \"utf-8\")\n",
    "    # print(type(subor))\n",
    "\n",
    "    subor.write(\"Python je fajnovy\\n\")\n",
    "    subor.write(\"Vsetko najlepsie\\n\")\n",
    "finally:\n",
    "    subor.close()\n",
    "\n",
    "# Pre pracu so subormi\n",
    "with open(\"data.txt\", mode = \"a\", encoding = \"utf-8\") as f:\n",
    "    # pass\n",
    "    f.write(\"\\n\\nFaktura 20220001\")\n",
    "    f.write(\"\\nPolozky:\")\n",
    "    f.write(\"\\n\\nNotebook \\t 3000 Eur\")\n",
    "    f.write(\"\\nTlaciaren \\t 150 Eur\")\n",
    "    f.close()\n",
    "\n",
    "with open(\"data.txt\", mode = \"r\", encoding = \"utf-8\") as f:\n",
    "    print(f.read(15))\n",
    "    print(f.readline())\n",
    "    print(f.readlines())"
   ]
  },
  {
   "cell_type": "markdown",
   "id": "da8ca375",
   "metadata": {},
   "source": [
    "# 05. Vlastne funkcie/definicie"
   ]
  },
  {
   "cell_type": "code",
   "execution_count": 156,
   "id": "03692bd5",
   "metadata": {},
   "outputs": [],
   "source": [
    "# Funkcia, metoda, definicia\n",
    "\n",
    "def vypis_ahoj():\n",
    "    \"\"\"Toto je funkcia, ktora vypise ahoj\"\"\"\n",
    "    print(\"Ahoj\")\n",
    "\n",
    "def vypocitaj_obvod_trojuholnika(a, b, c):\n",
    "    \"\"\"Vypocita obvod trojuholnik v m\"\"\"\n",
    "    print(\"Obvod je trojuholnika --> \", a+b+c)\n",
    "\n",
    "def vypocitaj_obvod_trojuholnik(a, b, c):\n",
    "    \"\"\"Vypocita obvod trojuholnik v m\"\"\"\n",
    "    return a+b+c\n",
    "\n",
    "def vypis_cele_meno_pouzivatel(m, p):\n",
    "    \"\"\"Vypise cele meno a priezvisko bez zaciatocnych a koncovych medzier, prve pismeno v slovach velke.\"\"\"\n",
    "    cele_meno = m.strip() + \" \" + p.strip()\n",
    "    cele_meno = cele_meno.title()\n",
    "    return cele_meno\n",
    "\n",
    "# class Sklad:\n",
    "#     def vypis_ahoj(self):\n",
    "#     \"\"\"Toto je funkcia, ktora vypise ahoj\"\"\"\n",
    "#     print(\"Ahoj\")\n"
   ]
  },
  {
   "cell_type": "code",
   "execution_count": 157,
   "id": "99d61e46",
   "metadata": {},
   "outputs": [
    {
     "name": "stdout",
     "output_type": "stream",
     "text": [
      "Ahoj\n",
      "Obvod je trojuholnika -->  9\n"
     ]
    },
    {
     "data": {
      "text/plain": [
       "'Adam Sangala'"
      ]
     },
     "execution_count": 157,
     "metadata": {},
     "output_type": "execute_result"
    }
   ],
   "source": [
    "vypis_ahoj()\n",
    "vypocitaj_obvod_trojuholnika(4,2,3)\n",
    "vypocitaj_obvod_trojuholnik(4,4,4)\n",
    "vypis_cele_meno_pouzivatel(\"adam   \", \"  sangala \")"
   ]
  },
  {
   "cell_type": "code",
   "execution_count": 164,
   "id": "aae2dce1",
   "metadata": {},
   "outputs": [
    {
     "name": "stdout",
     "output_type": "stream",
     "text": [
      "  __________\n",
      "| Ahoj Peter |\n",
      "  ==========\n",
      "          \\\n",
      "           \\\n",
      "             ^__^\n",
      "             (oo)\\_______\n",
      "             (__)\\       )\\/\\\n",
      "                 ||----w |\n",
      "                 ||     ||\n",
      "  _________\n",
      "| Ahoj Nina |\n",
      "  =========\n",
      "           \\\n",
      "            \\\n",
      "             \\\n",
      "              \\\n",
      "                                    / \\\\  //\\\\\n",
      "                     |\\\\___/|      /   \\\\//  \\\\\\\\\n",
      "                     /0  0  \\\\__  /    //  | \\\\ \\\\\n",
      "                    /     /  \\\\/_/    //   |  \\\\  \\\\\n",
      "                    \\@_^_\\@'/   \\\\/_   //    |   \\\\   \\\\\n",
      "                    //_^_/     \\\\/_ //     |    \\\\    \\\\\n",
      "                 ( //) |        \\\\///      |     \\\\     \\\\\n",
      "               ( / /) _|_ /   )  //       |      \\\\     _\\\\\n",
      "             ( // /) '/,_ _ _/  ( ; -.    |    _ _\\\\.-~        .-~~~^-.\n",
      "           (( / / )) ,-{        _      `-.|.-~-.           .~         `.\n",
      "          (( // / ))  '/\\\\      /                 ~-. _ .-~      .-~^-.  \\\\\n",
      "          (( /// ))      `.   {            }                   /      \\\\  \\\\\n",
      "           (( / ))     .----~-.\\\\        \\\\-'                 .~         \\\\  `. \\\\^-.\n",
      "                      ///.----..>        \\\\             _ -~             `.  ^-`  ^-_\n",
      "                        ///-._ _ _ _ _ _ _}^ - - - - ~                     ~-- ,.-~\n",
      "                                                                           /.-~\n",
      "  __________\n",
      "| Hello girl |\n",
      "  ==========\n",
      "               \\\n",
      "                \\\n",
      "                 \\\n",
      "                       _------~~-,\n",
      "                    ,'            ,\n",
      "                    /               \\\\\n",
      "                   /                :\n",
      "                  |                  '\n",
      "                  |                  |\n",
      "                  |                  |\n",
      "                   |   _--           |\n",
      "                   _| =-.     .-.   ||\n",
      "                   o|/o/       _.   |\n",
      "                   /  ~          \\\\ |\n",
      "                 (____\\@)  ___~    |\n",
      "                    |_===~~~.`    |\n",
      "                 _______.--~     |\n",
      "                 \\\\________       |\n",
      "                          \\\\      |\n",
      "                        __/-___-- -__\n",
      "                       /            _ \\\\\n",
      "                       \n",
      "  ______________\n",
      "| Who's there... |\n",
      "  ==============\n",
      "                      \\\n",
      "                       \\\n",
      "                        \\\n",
      "                         \\\n",
      "                                     __---__\n",
      "                                  _-       /--______\n",
      "                             __--( /     \\ )XXXXXXXXXXX\\v.\n",
      "                           .-XXX(   O   O  )XXXXXXXXXXXXXXX-\n",
      "                          /XXX(       U     )        XXXXXXX\\\n",
      "                        /XXXXX(              )--_  XXXXXXXXXXX\\\n",
      "                       /XXXXX/ (      O     )   XXXXXX   \\XXXXX\\\n",
      "                       XXXXX/   /            XXXXXX   \\__ \\XXXXX\n",
      "                       XXXXXX__/          XXXXXX         \\__---->\n",
      "               ---___  XXX__/          XXXXXX      \\__         /\n",
      "                 \\-  --__/   ___/\\  XXXXXX            /  ___--/=\n",
      "                  \\-\\    ___/    XXXXXX              '--- XXXXXX\n",
      "                     \\-\\/XXX\\ XXXXXX                      /XXXXX\n",
      "                       \\XXXXXXXXX   \\                    /XXXXX/\n",
      "                        \\XXXXXX      >                 _/XXXXX/\n",
      "                          \\XXXXX--__/              __-- XXXX/\n",
      "                           -XXXXXXXX---------------  XXXXXX-\n",
      "                              \\XXXXXXXXXXXXXXXXXXXXXXXXXX/\n",
      "                                \"\"VXXXXXXXXXXXXXXXXXXV\"\"\n"
     ]
    }
   ],
   "source": [
    "# !pip install cowsay\n",
    "import cowsay as c\n",
    "\n",
    "cowsay.cow(\"Ahoj Peter\")\n",
    "cowsay.dragon(\"Ahoj Nina\")\n",
    "c.beavis(\"Hello girl\")\n",
    "c.ghostbusters(\"Who's there...\")\n"
   ]
  },
  {
   "cell_type": "code",
   "execution_count": null,
   "id": "46d50407",
   "metadata": {},
   "outputs": [],
   "source": []
  }
 ],
 "metadata": {
  "kernelspec": {
   "display_name": "Python 3 (ipykernel)",
   "language": "python",
   "name": "python3"
  },
  "language_info": {
   "codemirror_mode": {
    "name": "ipython",
    "version": 3
   },
   "file_extension": ".py",
   "mimetype": "text/x-python",
   "name": "python",
   "nbconvert_exporter": "python",
   "pygments_lexer": "ipython3",
   "version": "3.9.7"
  }
 },
 "nbformat": 4,
 "nbformat_minor": 5
}
