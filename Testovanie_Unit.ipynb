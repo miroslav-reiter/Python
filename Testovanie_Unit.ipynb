{
 "cells": [
  {
   "cell_type": "markdown",
   "id": "eb93ce31",
   "metadata": {},
   "source": [
    "# Virtuálne prostredie venv"
   ]
  },
  {
   "cell_type": "code",
   "execution_count": 1,
   "id": "53ff7550",
   "metadata": {},
   "outputs": [],
   "source": [
    "# 1. Vytvorte virtuálne prostredie\n",
    "# Otvorte adresár, v ktorom chcete vytvoriť svoj projekt. Otvorte CMD/PowerShell a prejdite do rovnakého adresára a spustite nasledujúce príkazy na vytvorenie virtuálneho prostredia.\n",
    "python -m venv venv\n",
    "\n",
    "# 2. Aktivujte virtuálne prostredie\n",
    "# Teraz, keď máme naše virtuálne prostredie, poďme ho aktivovať.\n",
    "venv\\Scripts\\activate\n",
    "\n",
    "# 3. Nainštalujte jadro Jupyter pre virtuálne prostredie pomocou nasledujúceho príkazu.\n",
    "# Spustenie nasledujúceho príkazu vytvorí jadro, ktoré možno použiť na spustenie príkazov notebooku Jupyter vo virtuálnom prostredí.\n",
    "ipython kernel install --user --name=venv\n",
    "\n",
    "# 4. Ak chcete v tomto virtuálnom prostredí používať Jupyter notebook, vyberte nainštalované jadro.\n",
    "# Skontrolujeme, či je naše jadro vytvorené. Stačí spustiť príkaz „jupyter notebook“ v príkazovom riadku alebo Powershell a otvorí sa prostredie jupyter. Kliknite na jadro a kliknite na Zmeniť jadro, budete môcť vidieť jadro, ktoré ste práve vytvorili.\n",
    "\n",
    "# Teraz môžete vidieť, že máte jadro v zozname jadier a teraz môžete mať samostatné závislosti pre notebook jupyter a byť organizovanejší. Keď skončíte s projektom a jadro už nepotrebujete, môžete ho odinštalovať spustením nasledujúceho kódu:\n",
    "jupyter-kernelspec unistall venv\n",
    "\n"
   ]
  },
  {
   "cell_type": "markdown",
   "id": "cb093f05",
   "metadata": {},
   "source": [
    "# Unit testing (jednotkové testovanie)"
   ]
  },
  {
   "cell_type": "code",
   "execution_count": 12,
   "id": "9d8007d2",
   "metadata": {},
   "outputs": [],
   "source": [
    "# Doctest\n",
    "def sucet(a, b):\n",
    "    \"\"\"\n",
    "    Tu bude test\n",
    "    >>> sucet(1,2)\n",
    "    4\n",
    "    \"\"\"\n",
    "    return a+b\n",
    "\n",
    "def vypocita_obvod_trojuholnik(a, b, c):\n",
    "    \"\"\"\n",
    "    Tu bude test\n",
    "    >>> vypocita_obvod_trojuholnik(1,2,3)\n",
    "    6\n",
    "    \"\"\"\n",
    "    return a+b+c\n",
    "\n",
    "a = 5\n",
    "vek = 13\n",
    "mzda = 1950.36"
   ]
  },
  {
   "cell_type": "code",
   "execution_count": 13,
   "id": "8caef244",
   "metadata": {},
   "outputs": [
    {
     "name": "stdout",
     "output_type": "stream",
     "text": [
      "Trying:\n",
      "    sucet(1,2)\n",
      "Expecting:\n",
      "    4\n",
      "**********************************************************************\n",
      "File \"__main__\", line 5, in __main__.sucet\n",
      "Failed example:\n",
      "    sucet(1,2)\n",
      "Expected:\n",
      "    4\n",
      "Got:\n",
      "    3\n",
      "Trying:\n",
      "    vypocita_obvod_trojuholnik(1,2,3)\n",
      "Expecting:\n",
      "    6\n",
      "ok\n",
      "1 items had no tests:\n",
      "    __main__\n",
      "1 items passed all tests:\n",
      "   1 tests in __main__.vypocita_obvod_trojuholnik\n",
      "**********************************************************************\n",
      "1 items had failures:\n",
      "   1 of   1 in __main__.sucet\n",
      "2 tests in 3 items.\n",
      "1 passed and 1 failed.\n",
      "***Test Failed*** 1 failures.\n",
      "TestResults(failed=1, attempted=2)\n"
     ]
    }
   ],
   "source": [
    "# locals()\n",
    "# !pip install doctest\n",
    "import doctest\n",
    "print(doctest.testmod(verbose=True))\n",
    "\n",
    "# import unittest"
   ]
  },
  {
   "cell_type": "markdown",
   "id": "4a4dcee8",
   "metadata": {},
   "source": [
    "# Verejné a privátne repozitáre"
   ]
  },
  {
   "cell_type": "code",
   "execution_count": null,
   "id": "6e96c0dc",
   "metadata": {},
   "outputs": [],
   "source": [
    "# vývoj softvéru a správu verzií s použitím verziovacieho nástroja Git\n",
    "\n",
    "https://github.com/\n",
    "https://gitlab.com/\n",
    "https://bitbucket.org/\n",
    "    \n",
    "https://github.com/miroslav-reiter"
   ]
  }
 ],
 "metadata": {
  "kernelspec": {
   "display_name": "Python 3 (ipykernel)",
   "language": "python",
   "name": "python3"
  },
  "language_info": {
   "codemirror_mode": {
    "name": "ipython",
    "version": 3
   },
   "file_extension": ".py",
   "mimetype": "text/x-python",
   "name": "python",
   "nbconvert_exporter": "python",
   "pygments_lexer": "ipython3",
   "version": "3.9.7"
  }
 },
 "nbformat": 4,
 "nbformat_minor": 5
}
