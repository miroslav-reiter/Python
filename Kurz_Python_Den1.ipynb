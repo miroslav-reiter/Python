{
 "cells": [
  {
   "cell_type": "markdown",
   "id": "2df4aa21",
   "metadata": {},
   "source": [
    "# 01. Komentáre, kódovanie, výpis, docstringy"
   ]
  },
  {
   "cell_type": "code",
   "execution_count": 13,
   "id": "d925b447",
   "metadata": {},
   "outputs": [
    {
     "name": "stdout",
     "output_type": "stream",
     "text": [
      "Python je skvely jazyk\n",
      "Python je skvely jazyk\n",
      "Python \n",
      "je skvely jazyk\n",
      "Toto je docstring (dokumentacny string)\n",
      "😀 ❤ 💚 ✔\n"
     ]
    }
   ],
   "source": [
    "# -*- coding: utf-8 -*-\n",
    "# Toto je jednoriadkovy komentar ALT + 35 \n",
    "\"\"\"Toto je docstring (dokumentacny string)\"\"\"\n",
    "\n",
    "print(\"Python je skvely jazyk\")\n",
    "print(\"Python \" \n",
    "      \"je skvely jazyk\")\n",
    "print(\"Python \\nje skvely jazyk\")\n",
    "print(__doc__)\n",
    "print(\"😀 ❤ 💚 ✔\")"
   ]
  },
  {
   "cell_type": "markdown",
   "id": "6e312877",
   "metadata": {},
   "source": [
    "# 02. Premenné a dátové typy"
   ]
  },
  {
   "cell_type": "code",
   "execution_count": 32,
   "id": "60660882",
   "metadata": {},
   "outputs": [
    {
     "name": "stdout",
     "output_type": "stream",
     "text": [
      "Adam\n",
      "<class 'str'>\n",
      "36\n",
      "<class 'int'>\n",
      "False\n",
      "<class 'bool'>\n",
      "29.99\n",
      "<class 'float'>\n",
      "None\n",
      "<class 'NoneType'>\n",
      "meno klienta --> Adam typ premennej --> <class 'str'>\n"
     ]
    }
   ],
   "source": [
    "# str - string - retazec\n",
    "meno_klient = \"Adam\"\n",
    "print(meno_klient)\n",
    "print(type(meno_klient))\n",
    "\n",
    "# int - integer - cele cislo\n",
    "vek_klient = 36\n",
    "print(vek_klient)\n",
    "print(type(vek_klient))\n",
    "\n",
    "# bool/boolean - True/False\n",
    "jePN = False\n",
    "print(jePN)\n",
    "print(type(jePN))\n",
    "\n",
    "# float - cislo s plavajucou desatinnou ciarkou - real. cislo\n",
    "cena_produkt = 29.99\n",
    "print(cena_produkt)\n",
    "print(type(cena_produkt))\n",
    "\n",
    "kosik = None \n",
    "print(kosik)\n",
    "print(type(kosik))\n",
    "\n",
    "# Kombinovat spravu + obsah premennej + typ premennej\n",
    "print(\"meno klienta --> \" + meno_klient + \" typ premennej --> \" + str(type(meno_klient)))\n"
   ]
  },
  {
   "cell_type": "markdown",
   "id": "2198f4b6",
   "metadata": {},
   "source": [
    "# 03. Operácie"
   ]
  },
  {
   "cell_type": "code",
   "execution_count": 40,
   "id": "808b6944",
   "metadata": {},
   "outputs": [
    {
     "name": "stdout",
     "output_type": "stream",
     "text": [
      "8\n",
      "32\n",
      "2.5\n",
      "2\n",
      "1\n",
      "True\n",
      "False\n",
      "True\n",
      "True\n"
     ]
    }
   ],
   "source": [
    "# + - * /\n",
    "print(5+3)\n",
    "\n",
    "# Mocnina 2^5\n",
    "print(2**5)\n",
    "\n",
    "# Realne delenie\n",
    "print(5/2)\n",
    "\n",
    "# Celociselne delenie\n",
    "print(5//2)\n",
    "\n",
    "# Delenie so zvyskom (modulo)\n",
    "print(5%2)\n",
    "\n",
    "# and (log. sucin), or (log. sucet), not (log. negacia), xor (log. exluz. sucet)\n",
    "print(True and True)\n",
    "print(False and True)\n",
    "print(True or True)\n",
    "print(False or True)"
   ]
  },
  {
   "cell_type": "markdown",
   "id": "c6131d17",
   "metadata": {},
   "source": [
    "# 04. Funkcie zabudovane (definicie)"
   ]
  },
  {
   "cell_type": "code",
   "execution_count": 53,
   "id": "7d210346",
   "metadata": {},
   "outputs": [
    {
     "name": "stdout",
     "output_type": "stream",
     "text": [
      "369\n",
      "-100\n",
      "6\n",
      "275\n",
      "Co bolo skorej? -->  🥚\n"
     ]
    }
   ],
   "source": [
    "print(max(-5,9,-100,0,369,2))\n",
    "print(min(-5,9,-100,0,369,2))\n",
    "print(len([-5,9,-100,0,369,2]))\n",
    "print(sum([-5,9,-100,0,369,2]))\n",
    "# print(avg([-5,9,-100,0,369,2]))\n",
    "\n",
    "# tab - inteligentne doplnanie kodu/zobrazenie prikazov/premennych/funkcii (intellisense)\n",
    "# %mkdir laco\n",
    "# %rmdir laco\n",
    "\n",
    "print(\"Co bolo skorej? --> \", min(['\\N{CHICKEN}', '\\N{EGG}']))"
   ]
  },
  {
   "cell_type": "markdown",
   "id": "e273485b",
   "metadata": {},
   "source": [
    "# 05. Vlastne vypisy, pretypovanie"
   ]
  },
  {
   "cell_type": "code",
   "execution_count": 86,
   "id": "b0d38423",
   "metadata": {},
   "outputs": [
    {
     "name": "stdout",
     "output_type": "stream",
     "text": [
      "5\n",
      "Nina Adam\n",
      "Milujem Python\n",
      "Milujem Python\n",
      "Milujem Python\n",
      "Milujem Python\n",
      "\n",
      "\n",
      "Ahoj Karol \n",
      "Ahoj Peter \n",
      "Ahoj Monika \n",
      "Meno \t Priezvisko \t Mzda \t Email \t Kontakt\n",
      "C:\\temp\n",
      "\"Chod domov\", povedala mama\n",
      "WTF is this (ಠ_ಠ) shit?\n",
      "\n",
      "Mzda zamestnanec --> 1923.56 , je to typ -->  <class 'float'>\n",
      "Mzda zamestnanec --> 1923.56 , je to typ -->  <class 'str'>\n",
      "Mzda zamestnanec --> True , je to typ -->  <class 'bool'>\n"
     ]
    }
   ],
   "source": [
    "# Sucet - cisla (int, float), Spajanie retazcov/zretazenie - concatenate/text.join\n",
    "print(2+3)\n",
    "print(\"Nina\" + \" \" + \"Adam\")\n",
    "\n",
    "jazyk_programovaci = \"Python\"\n",
    "print(\"Milujem \" + jazyk_programovaci)\n",
    "print(\"Milujem\", jazyk_programovaci)\n",
    "print(\"Milujem {}\" .format(jazyk_programovaci))\n",
    "print(f\"Milujem {jazyk_programovaci}\")\n",
    "\n",
    "# Ukoncovacie sekvencie escaped sequences\n",
    "# \\n - new line - novy riadok - vbNewLine, vbCrLf, vbCr\n",
    "# \\t - tab - vbTab\n",
    "# \\\\ - \\ - backslash - spatne lomitka\n",
    "# \\' '\n",
    "# \\\" \"\n",
    "# \n",
    "print(\"\\n\\nAhoj Karol \\nAhoj Peter \\nAhoj Monika \")\n",
    "print(\"Meno \\t Priezvisko \\t Mzda \\t Email \\t Kontakt\")\n",
    "print(\"C:\\\\temp\")\n",
    "print(\"\\\"Chod domov\\\", povedala mama\")\n",
    "\n",
    "# Nestandardne znaky ako identifikator\n",
    "ಠ_ಠ = \"WTF is this (ಠ_ಠ) shit?\"\n",
    "print(ಠ_ಠ)\n",
    "\n",
    "# 🎲_🎲 = \"Som hodil kockou\"\n",
    "# print(🎲_🎲)\n",
    "\n",
    "# Pretypovanie (casting)\n",
    "# 0, \"\", None --> False\n",
    "mzda_zamestnanec = 1923.56\n",
    "print(\"\\nMzda zamestnanec -->\", mzda_zamestnanec, \", je to typ --> \", type(mzda_zamestnanec))\n",
    "\n",
    "mzda_zamestnanec_string = str(mzda_zamestnanec)\n",
    "print(\"Mzda zamestnanec -->\", mzda_zamestnanec_string, \", je to typ --> \", type(mzda_zamestnanec_string))\n",
    "\n",
    "mzda_zamestnanec_bool = bool(mzda_zamestnanec)\n",
    "print(\"Mzda zamestnanec -->\", mzda_zamestnanec_bool, \", je to typ --> \", type(mzda_zamestnanec_bool))"
   ]
  },
  {
   "cell_type": "markdown",
   "id": "4df62475",
   "metadata": {},
   "source": [
    "# 06. Modul math (matematicka knižnica)"
   ]
  },
  {
   "cell_type": "code",
   "execution_count": 106,
   "id": "0763eaf5",
   "metadata": {},
   "outputs": [
    {
     "name": "stdout",
     "output_type": "stream",
     "text": [
      "3.141592653589793\n",
      "2.718281828459045\n",
      "math.ceil(2.0001) -->  3\n",
      "math.ceil(2.999) -->  3\n",
      "math.ceil(2.000) -->  2\n",
      "\n",
      "math.floor(2.0001) -->  2\n",
      "math.floor(2.999) -->  2\n",
      "math.floor(2.000) -->  2\n",
      "\n",
      "round(2.0001) -->  2\n",
      "round(2.999) -->  3\n",
      "round(2.000) -->  2\n",
      "\n",
      "math.trunc(2.0001) -->  2\n",
      "math.trunc(2.999) -->  2\n",
      "math.trunc(2.000) -->  2\n",
      "math.pow(2,5) -->  32.0\n",
      "math.sqrt(81) -->  9.0\n"
     ]
    }
   ],
   "source": [
    "import math\n",
    "print(math.pi)\n",
    "print(math.e)\n",
    "\n",
    "# Ceil (roundup) - zaokruhli smerom nahor na najblizsie cele cislo\n",
    "print(\"math.ceil(2.0001) --> \", math.ceil(2.0001))\n",
    "print(\"math.ceil(2.999) --> \",math.ceil(2.999))\n",
    "print(\"math.ceil(2.000) --> \",math.ceil(2.0))\n",
    "\n",
    "# Floor (rounddown) - zaokruhli smerom nadol na najblizsie cele cislo\n",
    "print(\"\\nmath.floor(2.0001) --> \", math.floor(2.0001))\n",
    "print(\"math.floor(2.999) --> \",math.floor(2.999))\n",
    "print(\"math.floor(2.000) --> \",math.floor(2.0))\n",
    "\n",
    "# Round (Round) - zaokruhli\n",
    "print(\"\\nround(2.0001) --> \", round(2.0001))\n",
    "print(\"round(2.999) --> \", round(2.999))\n",
    "print(\"round(2.000) --> \", round(2.0))\n",
    "\n",
    "# Trunc (Trunc) - orezanie hodnoty\n",
    "print(\"\\nmath.trunc(2.0001) --> \", math.trunc(2.0001))\n",
    "print(\"math.trunc(2.999) --> \", math.trunc(2.999))\n",
    "print(\"math.trunc(2.000) --> \", math.trunc(2.0))\n",
    "\n",
    "print(\"math.pow(2,5) --> \", math.pow(2,5))\n",
    "print(\"math.sqrt(81) --> \", math.sqrt(81))"
   ]
  },
  {
   "cell_type": "markdown",
   "id": "0abba7f6",
   "metadata": {},
   "source": [
    "# 07. Moduly"
   ]
  },
  {
   "cell_type": "code",
   "execution_count": 18,
   "id": "64d4a030",
   "metadata": {},
   "outputs": [
    {
     "name": "stdout",
     "output_type": "stream",
     "text": [
      "Co je v builtin module --> ['In', 'Out', '_', '__', '___', '__builtin__', '__builtins__', '__doc__', '__loader__', '__name__', '__package__', '__spec__', '_dh', '_i', '_i1', '_i10', '_i11', '_i12', '_i13', '_i14', '_i15', '_i16', '_i17', '_i18', '_i2', '_i3', '_i4', '_i5', '_i6', '_i7', '_i8', '_i9', '_ih', '_ii', '_iii', '_oh', 'builtins', 'exit', 'get_ipython', 'math', 'os', 'quit', 're', 'sys']\n",
      "\n",
      "Co je v matematickom module --> ['__doc__', '__loader__', '__name__', '__package__', '__spec__', 'acos', 'acosh', 'asin', 'asinh', 'atan', 'atan2', 'atanh', 'ceil', 'comb', 'copysign', 'cos', 'cosh', 'degrees', 'dist', 'e', 'erf', 'erfc', 'exp', 'expm1', 'fabs', 'factorial', 'floor', 'fmod', 'frexp', 'fsum', 'gamma', 'gcd', 'hypot', 'inf', 'isclose', 'isfinite', 'isinf', 'isnan', 'isqrt', 'lcm', 'ldexp', 'lgamma', 'log', 'log10', 'log1p', 'log2', 'modf', 'nan', 'nextafter', 'perm', 'pi', 'pow', 'prod', 'radians', 'remainder', 'sin', 'sinh', 'sqrt', 'tan', 'tanh', 'tau', 'trunc', 'ulp']\n",
      "\n",
      "Co je v sys module --> ['__breakpointhook__', '__displayhook__', '__doc__', '__excepthook__', '__interactivehook__', '__loader__', '__name__', '__package__', '__spec__', '__stderr__', '__stdin__', '__stdout__', '__unraisablehook__', '_base_executable', '_clear_type_cache', '_current_frames', '_debugmallocstats', '_enablelegacywindowsfsencoding', '_framework', '_getframe', '_git', '_home', '_xoptions', 'addaudithook', 'api_version', 'argv', 'audit', 'base_exec_prefix', 'base_prefix', 'breakpointhook', 'builtin_module_names', 'byteorder', 'call_tracing', 'copyright', 'displayhook', 'dllhandle', 'dont_write_bytecode', 'exc_info', 'excepthook', 'exec_prefix', 'executable', 'exit', 'flags', 'float_info', 'float_repr_style', 'get_asyncgen_hooks', 'get_coroutine_origin_tracking_depth', 'getallocatedblocks', 'getdefaultencoding', 'getfilesystemencodeerrors', 'getfilesystemencoding', 'getprofile', 'getrecursionlimit', 'getrefcount', 'getsizeof', 'getswitchinterval', 'gettrace', 'getwindowsversion', 'hash_info', 'hexversion', 'implementation', 'int_info', 'intern', 'is_finalizing', 'last_traceback', 'last_type', 'last_value', 'maxsize', 'maxunicode', 'meta_path', 'modules', 'path', 'path_hooks', 'path_importer_cache', 'platform', 'platlibdir', 'prefix', 'ps1', 'ps2', 'ps3', 'pycache_prefix', 'set_asyncgen_hooks', 'set_coroutine_origin_tracking_depth', 'setprofile', 'setrecursionlimit', 'setswitchinterval', 'settrace', 'stderr', 'stdin', 'stdout', 'thread_info', 'unraisablehook', 'version', 'version_info', 'warnoptions', 'winver']\n",
      "\n",
      "Co je v os module --> ['DirEntry', 'F_OK', 'GenericAlias', 'Mapping', 'MutableMapping', 'O_APPEND', 'O_BINARY', 'O_CREAT', 'O_EXCL', 'O_NOINHERIT', 'O_RANDOM', 'O_RDONLY', 'O_RDWR', 'O_SEQUENTIAL', 'O_SHORT_LIVED', 'O_TEMPORARY', 'O_TEXT', 'O_TRUNC', 'O_WRONLY', 'P_DETACH', 'P_NOWAIT', 'P_NOWAITO', 'P_OVERLAY', 'P_WAIT', 'PathLike', 'R_OK', 'SEEK_CUR', 'SEEK_END', 'SEEK_SET', 'TMP_MAX', 'W_OK', 'X_OK', '_AddedDllDirectory', '_Environ', '__all__', '__builtins__', '__cached__', '__doc__', '__file__', '__loader__', '__name__', '__package__', '__spec__', '_check_methods', '_execvpe', '_exists', '_exit', '_fspath', '_get_exports_list', '_walk', '_wrap_close', 'abc', 'abort', 'access', 'add_dll_directory', 'altsep', 'chdir', 'chmod', 'close', 'closerange', 'cpu_count', 'curdir', 'defpath', 'device_encoding', 'devnull', 'dup', 'dup2', 'environ', 'error', 'execl', 'execle', 'execlp', 'execlpe', 'execv', 'execve', 'execvp', 'execvpe', 'extsep', 'fdopen', 'fsdecode', 'fsencode', 'fspath', 'fstat', 'fsync', 'ftruncate', 'get_exec_path', 'get_handle_inheritable', 'get_inheritable', 'get_terminal_size', 'getcwd', 'getcwdb', 'getenv', 'getlogin', 'getpid', 'getppid', 'isatty', 'kill', 'linesep', 'link', 'listdir', 'lseek', 'lstat', 'makedirs', 'mkdir', 'name', 'open', 'pardir', 'path', 'pathsep', 'pipe', 'popen', 'putenv', 'read', 'readlink', 'remove', 'removedirs', 'rename', 'renames', 'replace', 'rmdir', 'scandir', 'sep', 'set_handle_inheritable', 'set_inheritable', 'spawnl', 'spawnle', 'spawnv', 'spawnve', 'st', 'startfile', 'stat', 'stat_result', 'statvfs_result', 'strerror', 'supports_bytes_environ', 'supports_dir_fd', 'supports_effective_ids', 'supports_fd', 'supports_follow_symlinks', 'symlink', 'sys', 'system', 'terminal_size', 'times', 'times_result', 'truncate', 'umask', 'uname_result', 'unlink', 'unsetenv', 'urandom', 'utime', 'waitpid', 'waitstatus_to_exitcode', 'walk', 'write']\n",
      "Help on built-in function modf in module math:\n",
      "\n",
      "modf(x, /)\n",
      "    Return the fractional and integer parts of x.\n",
      "    \n",
      "    Both results carry the sign of x and are floats.\n",
      "\n",
      "\n",
      "Pomocnik matematicky modul --> None\n"
     ]
    }
   ],
   "source": [
    "# Nemusis import zabudovane veci...\n",
    "import builtins\n",
    "import math\n",
    "# Regularne vyrazy regular expressions\n",
    "# import re\n",
    "import sys\n",
    "import os\n",
    "\n",
    "# print(dir())\n",
    "# print(__doc__)\n",
    "# print(__builtins__)\n",
    "# print(__name__)\n",
    "\n",
    "# print(math.__doc__)\n",
    "# print(re.__doc__)\n",
    "\n",
    "# print(os.__doc__)\n",
    "# print(sys.__doc__)\n",
    "# print(sys.__package__)\n",
    "print(\"Co je v builtin module -->\", dir())\n",
    "print(\"\\nCo je v matematickom module -->\", dir(math))\n",
    "print(\"\\nCo je v sys module -->\", dir(sys))\n",
    "print(\"\\nCo je v os module -->\", dir(os))\n",
    "\n",
    "# print(\"\\nPomocnik matematicky modul -->\", help(math))\n",
    "print(\"\\nPomocnik matematicky modul -->\", help(math.modf))"
   ]
  },
  {
   "cell_type": "markdown",
   "id": "45908d15",
   "metadata": {},
   "source": [
    "# 08. Moduly pre datascience (numpy, pandas, matplotlib)"
   ]
  },
  {
   "cell_type": "code",
   "execution_count": 35,
   "id": "bafb91f8",
   "metadata": {},
   "outputs": [
    {
     "data": {
      "image/png": "[encoded data removed]",
      "text/plain": [
       "<Figure size 432x288 with 1 Axes>"
      ]
     },
     "metadata": {
      "needs_background": "light"
     },
     "output_type": "display_data"
    }
   ],
   "source": [
    "# PIP \n",
    "# !pip install numpy\n",
    "# !dir\n",
    "import numpy as np\n",
    "import matplotlib.pyplot as plt\n",
    "\n",
    "# print(matplotlib.pyplot.__doc__)\n",
    "# array range\n",
    "x = np.arange(-10, 10, 0.1)\n",
    "y = np.sin(x)\n",
    "plt.title(\"Sinus...\")\n",
    "plt.xlabel(\"Cas [s]\")\n",
    "plt.ylabel(\"Napätie [V]\")\n",
    "plt.plot(x, y)\n",
    "plt.show()"
   ]
  },
  {
   "cell_type": "markdown",
   "id": "9cc81df5",
   "metadata": {},
   "source": [
    "# 09. Grafy, zoznamy, polia"
   ]
  },
  {
   "cell_type": "code",
   "execution_count": 76,
   "id": "6dd2972f",
   "metadata": {},
   "outputs": [
    {
     "name": "stdout",
     "output_type": "stream",
     "text": [
      "<class 'list'>\n",
      "[1, 2, 3, 'Kapusta', None, True, 1690.23, [], [5, 6, 7]]\n",
      "<class 'numpy.ndarray'>\n",
      "[35 25 20 20]\n"
     ]
    },
    {
     "data": {
      "image/png": "[encoded data removed]",
      "text/plain": [
       "<Figure size 432x288 with 1 Axes>"
      ]
     },
     "metadata": {},
     "output_type": "display_data"
    },
    {
     "data": {
      "image/png": "[encoded data removed]",
      "text/plain": [
       "<Figure size 432x288 with 1 Axes>"
      ]
     },
     "metadata": {
      "needs_background": "light"
     },
     "output_type": "display_data"
    },
    {
     "name": "stdout",
     "output_type": "stream",
     "text": [
      "[ 91.32035773  85.99398929 114.75312113  85.80233075 101.29810368\n",
      "  96.04826897  94.05196419  99.51127217 114.86460141  85.8850128\n",
      "  78.30744701  95.11112935  99.4600333   89.36998026  96.68965295\n",
      "  87.11434649  84.58317545  98.99464186  77.79514899 114.60774773\n",
      "  93.8918182   83.43714376  90.17954681 101.15545536  98.1919261\n",
      "  92.5966096  113.48658965 104.41455209  96.92912917  86.89147306\n",
      " 102.49342568  96.96768516 106.56192958  80.87471581  96.98719093\n",
      "  79.90830837 102.75880073 105.09416154  90.61873918  83.49557606\n",
      "  82.90227     92.45745839 100.52677316 109.47284736 100.93576016\n",
      " 113.81856052  76.92174773  97.72638094 116.592905    92.04389698\n",
      " 110.6903511   95.37987203  89.71912645 103.45963585 103.9876971\n",
      " 125.18285398 111.61937923  91.50600854 109.22950648 105.47207265\n",
      " 102.59833386 119.55614302  96.7175334  102.74824999 110.3671241\n",
      "  80.97055072  95.08966472 101.74855573  95.99821261 114.32965332\n",
      "  96.36735521 100.87144166  90.69900395 101.73250028 110.78617386\n",
      "  78.10930445 114.23392081  99.3432223  109.00171601  93.79213738\n",
      "  83.06824305  97.28457611  88.62210691  93.40045049  92.76549716\n",
      "  72.71267407 106.03096285 105.65740693 115.23563946 105.14221339\n",
      "  93.34902703 116.85500931  87.68089562  97.81611228  98.23283103\n",
      "  96.19890442 105.44239033 119.43665692 100.33488629  89.85935165\n",
      " 112.17508528 107.78590517 110.89215471  98.11535646 111.72251818\n",
      " 101.88358775  95.51301088  97.66332493  80.43971889  90.27886708\n",
      "  99.96776974 107.40577742 106.77359778 103.07174368  88.75012642\n",
      "  93.24007149  82.76274057 100.82164318 101.17939952  94.73581161\n",
      " 104.04383976  94.84302781 104.45437971  96.3917096   98.93814859\n",
      " 111.58342258  94.21975384  93.52113472  94.50792645  91.1038205\n",
      " 107.73410952 100.16772432 108.4250571   93.82072961 106.21025108\n",
      " 117.60729455  92.40061697  88.51403978  93.07850748 100.0747983\n",
      " 102.59636289 109.91527826 105.18535047  78.45818975  95.01288871\n",
      "  98.61044624 106.29823538 108.2304663   99.02956735  93.01238486\n",
      "  97.72546118 102.06035651 103.9414654  114.28498038  99.66401349\n",
      " 102.7907721  103.13662414 101.57048983 103.65688813 111.12104575\n",
      "  99.04828318  97.41344043  94.8281665   98.39515423 111.72739165\n",
      "  97.35179262  96.06996566 105.72944808 104.73456645 107.15165613\n",
      "  97.81595717 100.30005187 108.45416303  94.47105192  94.90270901\n",
      "  88.8899554   81.78602329  92.94238437  89.29475442 109.86381514\n",
      "  99.99125146 101.49498654  89.28485025 110.04894189  91.46761272\n",
      " 100.51195638 102.75495406 102.92114692  91.11840936 105.88665583\n",
      " 102.55358578 106.98646709 103.87940111 100.58478646  93.87380503\n",
      "  87.873792    82.10376808  92.7014631   89.3664396   92.82090706]\n"
     ]
    },
    {
     "data": {
      "image/png": "[encoded data removed]",
      "text/plain": [
       "<Figure size 432x288 with 1 Axes>"
      ]
     },
     "metadata": {
      "needs_background": "light"
     },
     "output_type": "display_data"
    }
   ],
   "source": [
    "import numpy as np\n",
    "import matplotlib.pyplot as plt\n",
    "\n",
    "# Zoznam / list, heterogenne, menitelne\n",
    "zoznam_cisla = [1,2,3,\"Kapusta\", None, True, 1690.23, [], [5,6,7]]\n",
    "print(type(zoznam_cisla))\n",
    "print(zoznam_cisla)\n",
    "\n",
    "# Array / pole, homogenne\n",
    "y = np.array([35, 25, 20, 20])\n",
    "menovky = [\"Notebooky\", \"Tlaciaren\", \"Mysky\", \"Projektory\"]\n",
    "vykrojenie = [0.1, 0, 0, 0]\n",
    "tiene = True\n",
    "# r g b, c m y k, w\n",
    "farby_vlastne = [\"black\",\"pink\", \"b\", \"#CCCC00\"]\n",
    "\n",
    "print(type(y))\n",
    "print(y)\n",
    "\n",
    "plt.pie(y, labels = menovky, startangle = 0, explode = vykrojenie, shadow = tiene, colors = farby_vlastne)\n",
    "plt.legend(title = \"Produkty ABC s.r.o.\")\n",
    "plt.title(\"Analyza predaja produktov za Q1-2022\")\n",
    "plt.show()\n",
    "\n",
    "x1 = np.array([\"IBM\", \"HP\", \"NESS\", \"Microsoft\"])\n",
    "y1 = np.array([2, 5, 1, 9])\n",
    "\n",
    "plt.bar(x1, y1)\n",
    "plt.title(\"Porovnanie IT firiem 2022\")\n",
    "plt.xlabel(\"Firma\")\n",
    "plt.ylabel(\"Obrat v [mil]\")\n",
    "plt.show()\n",
    "\n",
    "nahoda = np.random.normal(100, 10, 200)\n",
    "print(nahoda)\n",
    "plt.hist(nahoda)\n",
    "plt.show()"
   ]
  },
  {
   "cell_type": "code",
   "execution_count": null,
   "id": "04a0fef5",
   "metadata": {},
   "outputs": [],
   "source": []
  }
 ],
 "metadata": {
  "kernelspec": {
   "display_name": "Python 3 (ipykernel)",
   "language": "python",
   "name": "python3"
  },
  "language_info": {
   "codemirror_mode": {
    "name": "ipython",
    "version": 3
   },
   "file_extension": ".py",
   "mimetype": "text/x-python",
   "name": "python",
   "nbconvert_exporter": "python",
   "pygments_lexer": "ipython3",
   "version": "3.9.7"
  }
 },
 "nbformat": 4,
 "nbformat_minor": 5
}
